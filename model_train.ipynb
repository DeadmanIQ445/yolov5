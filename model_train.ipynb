{
 "cells": [
  {
   "cell_type": "code",
   "execution_count": 1,
   "id": "064b1caf",
   "metadata": {},
   "outputs": [],
   "source": [
    "import os\n",
    "import yaml"
   ]
  },
  {
   "cell_type": "code",
   "execution_count": 11,
   "id": "35f8aed7",
   "metadata": {},
   "outputs": [],
   "source": [
    "path = \"data/summer_treecanopy_train/coco128\""
   ]
  },
  {
   "cell_type": "code",
   "execution_count": 16,
   "id": "6e6fcb7a",
   "metadata": {},
   "outputs": [],
   "source": [
    "\n",
    "\n",
    "with open(\"data/coco128.yaml\", \"r\") as stream:\n",
    "    try:\n",
    "        a = yaml.safe_load(stream)\n",
    "        a['path'] = path\n",
    "    except yaml.YAMLError as exc:\n",
    "        print(exc)\n",
    "with open(\"data/coco128.yaml\", \"w\") as stream:\n",
    "    yaml.dump(a,stream)\n"
   ]
  },
  {
   "cell_type": "code",
   "execution_count": 17,
   "id": "f2d3dde1",
   "metadata": {},
   "outputs": [
    {
     "name": "stderr",
     "output_type": "stream",
     "text": [
      "\u001b[34m\u001b[1mtrain: \u001b[0mweights=, cfg=yolov5l.yaml, data=coco128.yaml, hyp=data/hyps/hyp.scratch.yaml, epochs=150, batch_size=16, imgsz=400, rect=True, resume=False, nosave=False, noval=False, noautoanchor=False, evolve=None, bucket=, cache=None, image_weights=False, device=, multi_scale=False, single_cls=True, optimizer=Adam, sync_bn=False, workers=8, project=runs/train, name=exp, exist_ok=False, quad=False, linear_lr=False, label_smoothing=0.0, patience=100, freeze=[0], save_period=-1, local_rank=-1, entity=None, upload_dataset=False, bbox_interval=-1, artifact_alias=latest\n",
      "YOLOv5 🚀 v6.0-197-g033e0de torch 1.8.0+cu111 CUDA:0 (NVIDIA GeForce RTX 2060 SUPER, 7979MiB)\n",
      "\n",
      "\u001b[34m\u001b[1mhyperparameters: \u001b[0mlr0=0.001, lrf=0.1, momentum=0.937, weight_decay=0.0005, warmup_epochs=3.0, warmup_momentum=0.8, warmup_bias_lr=0.1, box=0.05, cls=0.5, cls_pw=1.0, obj=1.0, obj_pw=1.0, iou_t=0.2, anchor_t=4.0, fl_gamma=0.0, hsv_h=0.015, hsv_s=0.7, hsv_v=0.4, degrees=0.0, translate=0.1, scale=0.5, shear=0.0, perspective=0.0, flipud=0.0, fliplr=0.5, mosaic=1.0, mixup=0.0, copy_paste=0.0\n",
      "\u001b[34m\u001b[1mTensorBoard: \u001b[0mStart with 'tensorboard --logdir runs/train', view at http://localhost:6006/\n",
      "Overriding model.yaml nc=80 with nc=1\n",
      "\n",
      "                 from  n    params  module                                  arguments                     \n",
      "  0                -1  1      7040  models.common.Conv                      [3, 64, 6, 2, 2]              \n",
      "  1                -1  1     73984  models.common.Conv                      [64, 128, 3, 2]               \n",
      "  2                -1  3    156928  models.common.C3                        [128, 128, 3]                 \n",
      "  3                -1  1    295424  models.common.Conv                      [128, 256, 3, 2]              \n",
      "  4                -1  6   1118208  models.common.C3                        [256, 256, 6]                 \n",
      "  5                -1  1   1180672  models.common.Conv                      [256, 512, 3, 2]              \n",
      "  6                -1  9   6433792  models.common.C3                        [512, 512, 9]                 \n",
      "  7                -1  1   4720640  models.common.Conv                      [512, 1024, 3, 2]             \n",
      "  8                -1  3   9971712  models.common.C3                        [1024, 1024, 3]               \n",
      "  9                -1  1   2624512  models.common.SPPF                      [1024, 1024, 5]               \n",
      " 10                -1  1    525312  models.common.Conv                      [1024, 512, 1, 1]             \n",
      " 11                -1  1         0  torch.nn.modules.upsampling.Upsample    [None, 2, 'nearest']          \n",
      " 12           [-1, 6]  1         0  models.common.Concat                    [1]                           \n",
      " 13                -1  3   2757632  models.common.C3                        [1024, 512, 3, False]         \n",
      " 14                -1  1    131584  models.common.Conv                      [512, 256, 1, 1]              \n",
      " 15                -1  1         0  torch.nn.modules.upsampling.Upsample    [None, 2, 'nearest']          \n",
      " 16           [-1, 4]  1         0  models.common.Concat                    [1]                           \n",
      " 17                -1  3    690688  models.common.C3                        [512, 256, 3, False]          \n",
      " 18                -1  1    590336  models.common.Conv                      [256, 256, 3, 2]              \n",
      " 19          [-1, 14]  1         0  models.common.Concat                    [1]                           \n",
      " 20                -1  3   2495488  models.common.C3                        [512, 512, 3, False]          \n",
      " 21                -1  1   2360320  models.common.Conv                      [512, 512, 3, 2]              \n",
      " 22          [-1, 10]  1         0  models.common.Concat                    [1]                           \n",
      " 23                -1  3   9971712  models.common.C3                        [1024, 1024, 3, False]        \n",
      " 24      [17, 20, 23]  1     32310  models.yolo.Detect                      [1, [[10, 13, 16, 30, 33, 23], [30, 61, 62, 45, 59, 119], [116, 90, 156, 198, 373, 326]], [256, 512, 1024]]\n",
      "Model Summary: 468 layers, 46138294 parameters, 46138294 gradients, 107.9 GFLOPs\n",
      "\n",
      "Scaled weight_decay = 0.0005\n",
      "\u001b[34m\u001b[1moptimizer:\u001b[0m Adam with parameter groups 101 weight, 104 weight (no decay), 104 bias\n",
      "WARNING: --rect is incompatible with DataLoader shuffle, setting shuffle=False\n",
      "\u001b[34m\u001b[1malbumentations: \u001b[0mPiecewiseAffine(always_apply=False, p=0.2, scale=(0.01, 0.05), nb_rows=(4, 4), nb_cols=(4, 4), interpolation=1, mask_interpolation=0, cval=0, cval_mask=0, mode='constant', absolute_scale=False, keypoints_threshold=0.01), Flip(always_apply=False, p=0.5)\n"
     ]
    },
    {
     "name": "stdout",
     "output_type": "stream",
     "text": [
      "\u001b[34m\u001b[1mgithub: \u001b[0mCommand 'git fetch && git config --get remote.origin.url' returned non-zero exit status 1.\n",
      "\u001b[34m\u001b[1mWeights & Biases: \u001b[0mrun 'pip install wandb' to automatically track and visualize YOLOv5 🚀 runs (RECOMMENDED)\n",
      "WARNING: --img-size 400 must be multiple of max stride 32, updating to 416\n"
     ]
    },
    {
     "name": "stderr",
     "output_type": "stream",
     "text": [
      "\u001b[34m\u001b[1mtrain: \u001b[0mScanning 'data/summer_treecanopy_train/coco128/labels/train2017' images and labels...488 found, 0 missing, 0 empty, 0 corrupted: 100%|██████████| 488/488 [00:03<00:00, 138.54it/s]\n",
      "\u001b[34m\u001b[1mtrain: \u001b[0mWARNING: data/summer_treecanopy_train/coco128/images/train2017/three_trees_afs_summer_1_HMAO_CIMA_gpx_H_6.tif: 6 duplicate labels removed\n",
      "\u001b[34m\u001b[1mtrain: \u001b[0mNew cache created: data/summer_treecanopy_train/coco128/labels/train2017.cache\n",
      "\u001b[34m\u001b[1mval: \u001b[0mScanning 'data/summer_treecanopy_train/coco128/labels/val2017' images and labels...87 found, 0 missing, 0 empty, 0 corrupted: 100%|██████████| 87/87 [00:00<00:00, 107.60it/s]\n",
      "\u001b[34m\u001b[1mval: \u001b[0mNew cache created: data/summer_treecanopy_train/coco128/labels/val2017.cache\n",
      "Plotting labels to runs/train/exp98/labels.jpg... \n",
      "\n",
      "\u001b[34m\u001b[1mAutoAnchor: \u001b[0m5.29 anchors/target, 0.977 Best Possible Recall (BPR). Anchors are a poor fit to dataset ⚠️, attempting to improve...\n",
      "\u001b[34m\u001b[1mAutoAnchor: \u001b[0mWARNING: Extremely small objects found. 2418 of 104430 labels are < 3 pixels in size.\n",
      "\u001b[34m\u001b[1mAutoAnchor: \u001b[0mRunning kmeans for 9 anchors on 104426 points...\n",
      "\u001b[34m\u001b[1mAutoAnchor: \u001b[0mEvolving anchors with Genetic Algorithm: fitness = 0.8675: 100%|██████████| 1000/1000 [00:32<00:00, 30.69it/s]\n",
      "\u001b[34m\u001b[1mAutoAnchor: \u001b[0mthr=0.25: 0.9823 best possible recall, 8.13 anchors past thr\n",
      "\u001b[34m\u001b[1mAutoAnchor: \u001b[0mn=9, img_size=416, metric_all=0.551/0.870-mean/best, past_thr=0.593-mean: 14,14, 9,32, 32,9, 20,20, 25,25, 30,30, 34,34, 42,41, 53,53\n",
      "\u001b[34m\u001b[1mAutoAnchor: \u001b[0mReversing anchor order\n",
      "\u001b[34m\u001b[1mAutoAnchor: \u001b[0mNew anchors saved to model. Update model *.yaml to use these anchors in the future.\n",
      "Image sizes 416 train, 416 val\n",
      "Using 4 dataloader workers\n",
      "Logging results to \u001b[1mruns/train/exp98\u001b[0m\n",
      "Starting training for 150 epochs...\n",
      "\n",
      "     Epoch   gpu_mem       box       obj       cls    labels  img_size\n",
      "     0/149     4.56G    0.1111     0.619         0      1463       416: 100%|██████████| 31/31 [07:06<00:00, 13.75s/it]\n",
      "               Class     Images     Labels          P          R     mAP@.5 mAP@.5:.95: 100%|██████████| 3/3 [00:02<00:00,  1.41it/s]\n",
      "                 all         87      18965      0.132      0.304     0.0936     0.0223\n",
      "\n",
      "     Epoch   gpu_mem       box       obj       cls    labels  img_size\n",
      "     1/149     5.07G    0.1075    0.5647         0      1469       416: 100%|██████████| 31/31 [06:33<00:00, 12.69s/it]\n",
      "               Class     Images     Labels          P          R     mAP@.5 mAP@.5:.95: 100%|██████████| 3/3 [00:01<00:00,  1.68it/s]\n",
      "                 all         87      18965      0.183      0.374      0.137      0.033\n",
      "\n",
      "     Epoch   gpu_mem       box       obj       cls    labels  img_size\n",
      "     2/149     5.07G    0.1118    0.4382         0      2208       416:  13%|█▎        | 4/31 [01:16<08:39, 19.24s/it]\n",
      "Traceback (most recent call last):\n",
      "  File \"train.py\", line 638, in <module>\n",
      "    main(opt)\n",
      "  File \"train.py\", line 535, in main\n",
      "    train(opt.hyp, opt, device, callbacks)\n",
      "  File \"train.py\", line 306, in train\n",
      "    for i, (imgs, targets, paths, _) in pbar:  # batch -------------------------------------------------------------\n",
      "  File \"/media/deadman445/disk/PycharmProjects/yolov5/envs/venv/lib/python3.8/site-packages/tqdm/std.py\", line 1180, in __iter__\n",
      "    for obj in iterable:\n",
      "  File \"/media/deadman445/disk/PycharmProjects/yolov5/utils/datasets.py\", line 142, in __iter__\n",
      "    yield next(self.iterator)\n",
      "  File \"/media/deadman445/disk/PycharmProjects/yolov5/envs/venv/lib/python3.8/site-packages/torch/utils/data/dataloader.py\", line 517, in __next__\n",
      "    data = self._next_data()\n",
      "  File \"/media/deadman445/disk/PycharmProjects/yolov5/envs/venv/lib/python3.8/site-packages/torch/utils/data/dataloader.py\", line 1182, in _next_data\n",
      "    idx, data = self._get_data()\n",
      "  File \"/media/deadman445/disk/PycharmProjects/yolov5/envs/venv/lib/python3.8/site-packages/torch/utils/data/dataloader.py\", line 1138, in _get_data\n",
      "    success, data = self._try_get_data()\n",
      "  File \"/media/deadman445/disk/PycharmProjects/yolov5/envs/venv/lib/python3.8/site-packages/torch/utils/data/dataloader.py\", line 986, in _try_get_data\n",
      "    data = self._data_queue.get(timeout=timeout)\n",
      "  File \"/usr/lib/python3.8/queue.py\", line 179, in get\n",
      "    self.not_empty.wait(remaining)\n",
      "  File \"/usr/lib/python3.8/threading.py\", line 306, in wait\n",
      "    gotit = waiter.acquire(True, timeout)\n",
      "KeyboardInterrupt\n"
     ]
    },
    {
     "data": {
      "text/plain": [
       "2"
      ]
     },
     "execution_count": 17,
     "metadata": {},
     "output_type": "execute_result"
    }
   ],
   "source": [
    "os.system(\"python3 train.py --data coco128.yaml --cfg yolov5l.yaml --batch-size 16 --weights '' --rect --single-cls --imgsz 400 --epochs 150\")"
   ]
  },
  {
   "cell_type": "code",
   "execution_count": null,
   "id": "6dcbea79",
   "metadata": {},
   "outputs": [],
   "source": [
    "\n",
    "os.system(f\"python3 val.py --weights runs/train/{sorted(os.listdir('runs/train'))[-1]}/weights/best.pt --data coco128.yaml --img 400 --task test\")"
   ]
  }
 ],
 "metadata": {
  "kernelspec": {
   "display_name": "Python 3",
   "language": "python",
   "name": "python3"
  },
  "language_info": {
   "codemirror_mode": {
    "name": "ipython",
    "version": 3
   },
   "file_extension": ".py",
   "mimetype": "text/x-python",
   "name": "python",
   "nbconvert_exporter": "python",
   "pygments_lexer": "ipython3",
   "version": "3.8.10"
  }
 },
 "nbformat": 4,
 "nbformat_minor": 5
}
