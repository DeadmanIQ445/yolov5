{
 "cells": [
  {
   "cell_type": "code",
   "execution_count": 3,
   "metadata": {
    "collapsed": true
   },
   "outputs": [],
   "source": [
    "import glob\n",
    "import os\n",
    "import geopandas as gpd\n",
    "import pandas as pd\n",
    "import shutil\n",
    "img_size = 400\n",
    "\n",
    "train_val_label = \"train2017\"\n",
    "\n",
    "samples_folder='summer_treecanopy'\n",
    "if 'val' in train_val_label:\n",
    "    csv = 'test.csv'\n",
    "elif 'train' in train_val_label:\n",
    "    csv = 'train_val.csv'\n",
    "elif 'test' in train_val_label:\n",
    "    csv = 'final_df.csv'\n",
    "    samples_folder = 'test'\n",
    "samples_dir=f'/media/deadman445/disk/PycharmProjects/data/05/{samples_folder}_{img_size}'\n",
    "df_path = os.path.join(samples_dir, csv)\n",
    "\n",
    "yolo_base = os.path.join(os.path.dirname(samples_dir),f'{img_size}/coco128')"
   ]
  },
  {
   "cell_type": "code",
   "execution_count": 4,
   "outputs": [],
   "source": [
    "a = gpd.read_file(df_path)"
   ],
   "metadata": {
    "collapsed": false,
    "pycharm": {
     "name": "#%%\n"
    }
   }
  },
  {
   "cell_type": "markdown",
   "source": [],
   "metadata": {
    "collapsed": false
   }
  },
  {
   "cell_type": "code",
   "execution_count": 5,
   "outputs": [
    {
     "data": {
      "text/plain": "      field_1 Unnamed: 0 Unnamed: 0.1                minx                miny  \\\n0           0          0            0     3328503.5082785  299949.04697027267   \n1           1          1            1  3328503.2658523805   299957.6998585345   \n2           2          2            2  3328506.3839339456   299955.6865290579   \n3           3          3            3   3328508.817994219   299957.0489655764   \n4           4          4            4   3328509.162846389   299961.4080282363   \n...       ...        ...          ...                 ...                 ...   \n12480   15116      15116         6506  3328925.3952401862   299552.9437644123   \n12481   15117      15117         6507   3328927.222536858   299555.7932382531   \n12482   15118      15118         6508   3328923.465446011   299559.9868544992   \n12483   15119      15119         6509  3328937.3611611547  299566.43493912136   \n12484   15120      15120         6510   3328939.208755625  299568.60882220446   \n\n                     maxx                maxy                xmin  \\\n0       3328510.155555656   299959.5328182102  3.3913924964144826   \n1       3328510.872262953  299967.67438242404   2.179261902347207   \n2      3328512.1306242207  299961.68657444685  17.769669727422297   \n3      3328515.1111349263  299964.51642204286   29.93997109355405   \n4       3328517.468528173    299969.376616766  31.664231945760548   \n...                   ...                 ...                 ...   \n12480  3328931.5827107388   299558.6530978307    21.8262009308678   \n12481  3328932.8785379897    299561.693414538   30.96268429048405   \n12482   3328932.050122681  299567.92387239274  12.177230055443944   \n12483  3328942.7988278195  299571.67062386684   81.65580577310175   \n12484  3328944.2683265368    299573.692214091    90.8937781243585   \n\n                     xmax                ymin                ymax  \\\n0       36.62777827819809   207.3359089490259  259.76514863665216   \n1      40.211314763873816  166.62808787979884  216.50070732750464   \n2       46.50312110316008   196.5671277657384   226.5673547104234   \n3       61.40567463124171  182.41788978572004   219.7551721180207   \n4        73.1926408642903  158.11691617011093   197.9598588185036   \n...                   ...                 ...                 ...   \n12480   52.76355369342491  101.73451084643602  130.28117793845013   \n12481    59.2426899480638   86.53292731003603  116.03380873450078   \n12482     55.100613407325   55.38063803629484   95.06572750397028   \n12483  108.84413909725843  36.646880665794015   62.82530439319089   \n12484  116.19163268338887   26.53892954491312   51.95588897768175   \n\n                                              image_path label geometry  \n0      three_trees_afs_summer_9_Baykalsk_CIMA_gpx_H_0...  Tree     None  \n1      three_trees_afs_summer_9_Baykalsk_CIMA_gpx_H_0...  Tree     None  \n2      three_trees_afs_summer_9_Baykalsk_CIMA_gpx_H_0...  Tree     None  \n3      three_trees_afs_summer_9_Baykalsk_CIMA_gpx_H_0...  Tree     None  \n4      three_trees_afs_summer_9_Baykalsk_CIMA_gpx_H_0...  Tree     None  \n...                                                  ...   ...      ...  \n12480  three_trees_afs_summer_9_Baykalsk_CIMA_gpx_H_4...  Tree     None  \n12481  three_trees_afs_summer_9_Baykalsk_CIMA_gpx_H_4...  Tree     None  \n12482  three_trees_afs_summer_9_Baykalsk_CIMA_gpx_H_4...  Tree     None  \n12483  three_trees_afs_summer_9_Baykalsk_CIMA_gpx_H_4...  Tree     None  \n12484  three_trees_afs_summer_9_Baykalsk_CIMA_gpx_H_4...  Tree     None  \n\n[12485 rows x 14 columns]",
      "text/html": "<div>\n<style scoped>\n    .dataframe tbody tr th:only-of-type {\n        vertical-align: middle;\n    }\n\n    .dataframe tbody tr th {\n        vertical-align: top;\n    }\n\n    .dataframe thead th {\n        text-align: right;\n    }\n</style>\n<table border=\"1\" class=\"dataframe\">\n  <thead>\n    <tr style=\"text-align: right;\">\n      <th></th>\n      <th>field_1</th>\n      <th>Unnamed: 0</th>\n      <th>Unnamed: 0.1</th>\n      <th>minx</th>\n      <th>miny</th>\n      <th>maxx</th>\n      <th>maxy</th>\n      <th>xmin</th>\n      <th>xmax</th>\n      <th>ymin</th>\n      <th>ymax</th>\n      <th>image_path</th>\n      <th>label</th>\n      <th>geometry</th>\n    </tr>\n  </thead>\n  <tbody>\n    <tr>\n      <th>0</th>\n      <td>0</td>\n      <td>0</td>\n      <td>0</td>\n      <td>3328503.5082785</td>\n      <td>299949.04697027267</td>\n      <td>3328510.155555656</td>\n      <td>299959.5328182102</td>\n      <td>3.3913924964144826</td>\n      <td>36.62777827819809</td>\n      <td>207.3359089490259</td>\n      <td>259.76514863665216</td>\n      <td>three_trees_afs_summer_9_Baykalsk_CIMA_gpx_H_0...</td>\n      <td>Tree</td>\n      <td>None</td>\n    </tr>\n    <tr>\n      <th>1</th>\n      <td>1</td>\n      <td>1</td>\n      <td>1</td>\n      <td>3328503.2658523805</td>\n      <td>299957.6998585345</td>\n      <td>3328510.872262953</td>\n      <td>299967.67438242404</td>\n      <td>2.179261902347207</td>\n      <td>40.211314763873816</td>\n      <td>166.62808787979884</td>\n      <td>216.50070732750464</td>\n      <td>three_trees_afs_summer_9_Baykalsk_CIMA_gpx_H_0...</td>\n      <td>Tree</td>\n      <td>None</td>\n    </tr>\n    <tr>\n      <th>2</th>\n      <td>2</td>\n      <td>2</td>\n      <td>2</td>\n      <td>3328506.3839339456</td>\n      <td>299955.6865290579</td>\n      <td>3328512.1306242207</td>\n      <td>299961.68657444685</td>\n      <td>17.769669727422297</td>\n      <td>46.50312110316008</td>\n      <td>196.5671277657384</td>\n      <td>226.5673547104234</td>\n      <td>three_trees_afs_summer_9_Baykalsk_CIMA_gpx_H_0...</td>\n      <td>Tree</td>\n      <td>None</td>\n    </tr>\n    <tr>\n      <th>3</th>\n      <td>3</td>\n      <td>3</td>\n      <td>3</td>\n      <td>3328508.817994219</td>\n      <td>299957.0489655764</td>\n      <td>3328515.1111349263</td>\n      <td>299964.51642204286</td>\n      <td>29.93997109355405</td>\n      <td>61.40567463124171</td>\n      <td>182.41788978572004</td>\n      <td>219.7551721180207</td>\n      <td>three_trees_afs_summer_9_Baykalsk_CIMA_gpx_H_0...</td>\n      <td>Tree</td>\n      <td>None</td>\n    </tr>\n    <tr>\n      <th>4</th>\n      <td>4</td>\n      <td>4</td>\n      <td>4</td>\n      <td>3328509.162846389</td>\n      <td>299961.4080282363</td>\n      <td>3328517.468528173</td>\n      <td>299969.376616766</td>\n      <td>31.664231945760548</td>\n      <td>73.1926408642903</td>\n      <td>158.11691617011093</td>\n      <td>197.9598588185036</td>\n      <td>three_trees_afs_summer_9_Baykalsk_CIMA_gpx_H_0...</td>\n      <td>Tree</td>\n      <td>None</td>\n    </tr>\n    <tr>\n      <th>...</th>\n      <td>...</td>\n      <td>...</td>\n      <td>...</td>\n      <td>...</td>\n      <td>...</td>\n      <td>...</td>\n      <td>...</td>\n      <td>...</td>\n      <td>...</td>\n      <td>...</td>\n      <td>...</td>\n      <td>...</td>\n      <td>...</td>\n      <td>...</td>\n    </tr>\n    <tr>\n      <th>12480</th>\n      <td>15116</td>\n      <td>15116</td>\n      <td>6506</td>\n      <td>3328925.3952401862</td>\n      <td>299552.9437644123</td>\n      <td>3328931.5827107388</td>\n      <td>299558.6530978307</td>\n      <td>21.8262009308678</td>\n      <td>52.76355369342491</td>\n      <td>101.73451084643602</td>\n      <td>130.28117793845013</td>\n      <td>three_trees_afs_summer_9_Baykalsk_CIMA_gpx_H_4...</td>\n      <td>Tree</td>\n      <td>None</td>\n    </tr>\n    <tr>\n      <th>12481</th>\n      <td>15117</td>\n      <td>15117</td>\n      <td>6507</td>\n      <td>3328927.222536858</td>\n      <td>299555.7932382531</td>\n      <td>3328932.8785379897</td>\n      <td>299561.693414538</td>\n      <td>30.96268429048405</td>\n      <td>59.2426899480638</td>\n      <td>86.53292731003603</td>\n      <td>116.03380873450078</td>\n      <td>three_trees_afs_summer_9_Baykalsk_CIMA_gpx_H_4...</td>\n      <td>Tree</td>\n      <td>None</td>\n    </tr>\n    <tr>\n      <th>12482</th>\n      <td>15118</td>\n      <td>15118</td>\n      <td>6508</td>\n      <td>3328923.465446011</td>\n      <td>299559.9868544992</td>\n      <td>3328932.050122681</td>\n      <td>299567.92387239274</td>\n      <td>12.177230055443944</td>\n      <td>55.100613407325</td>\n      <td>55.38063803629484</td>\n      <td>95.06572750397028</td>\n      <td>three_trees_afs_summer_9_Baykalsk_CIMA_gpx_H_4...</td>\n      <td>Tree</td>\n      <td>None</td>\n    </tr>\n    <tr>\n      <th>12483</th>\n      <td>15119</td>\n      <td>15119</td>\n      <td>6509</td>\n      <td>3328937.3611611547</td>\n      <td>299566.43493912136</td>\n      <td>3328942.7988278195</td>\n      <td>299571.67062386684</td>\n      <td>81.65580577310175</td>\n      <td>108.84413909725843</td>\n      <td>36.646880665794015</td>\n      <td>62.82530439319089</td>\n      <td>three_trees_afs_summer_9_Baykalsk_CIMA_gpx_H_4...</td>\n      <td>Tree</td>\n      <td>None</td>\n    </tr>\n    <tr>\n      <th>12484</th>\n      <td>15120</td>\n      <td>15120</td>\n      <td>6510</td>\n      <td>3328939.208755625</td>\n      <td>299568.60882220446</td>\n      <td>3328944.2683265368</td>\n      <td>299573.692214091</td>\n      <td>90.8937781243585</td>\n      <td>116.19163268338887</td>\n      <td>26.53892954491312</td>\n      <td>51.95588897768175</td>\n      <td>three_trees_afs_summer_9_Baykalsk_CIMA_gpx_H_4...</td>\n      <td>Tree</td>\n      <td>None</td>\n    </tr>\n  </tbody>\n</table>\n<p>12485 rows × 14 columns</p>\n</div>"
     },
     "execution_count": 5,
     "metadata": {},
     "output_type": "execute_result"
    }
   ],
   "source": [
    "a"
   ],
   "metadata": {
    "collapsed": false,
    "pycharm": {
     "name": "#%%\n"
    }
   }
  },
  {
   "cell_type": "code",
   "execution_count": 6,
   "outputs": [
    {
     "data": {
      "text/plain": "403"
     },
     "execution_count": 6,
     "metadata": {},
     "output_type": "execute_result"
    }
   ],
   "source": [
    "a.groupby(['image_path']).size().max()"
   ],
   "metadata": {
    "collapsed": false,
    "pycharm": {
     "name": "#%%\n"
    }
   }
  },
  {
   "cell_type": "code",
   "execution_count": 6,
   "outputs": [],
   "source": [],
   "metadata": {
    "collapsed": false,
    "pycharm": {
     "name": "#%%\n"
    }
   }
  },
  {
   "cell_type": "code",
   "execution_count": 7,
   "outputs": [],
   "source": [
    "\n",
    "images_base = os.path.join(yolo_base,'images')\n",
    "labels_base = os.path.join(yolo_base,'labels')\n",
    "os.makedirs(yolo_base, exist_ok=True)\n",
    "os.makedirs(images_base, exist_ok=True)\n",
    "os.makedirs(labels_base, exist_ok=True)\n"
   ],
   "metadata": {
    "collapsed": false,
    "pycharm": {
     "name": "#%%\n"
    }
   }
  },
  {
   "cell_type": "code",
   "execution_count": 8,
   "outputs": [],
   "source": [
    "for name, group in a.groupby(['image_path']):\n",
    "    # print(group)\n",
    "    base_name = os.path.splitext(os.path.basename(name))[0]\n",
    "    group['xmin'] = group['xmin'].astype(float)\n",
    "    group['xmax'] = group['xmax'].astype(float)\n",
    "    group['ymin'] = group['ymin'].astype(float)\n",
    "    group['ymax'] = group['ymax'].astype(float)\n",
    "    x = (group['xmin'] + group['xmax'])/(2.0*img_size)\n",
    "    y = (group['ymin'] + group['ymax'])/(2.0*img_size)\n",
    "    w = (group['xmax'] - group['xmin'])/img_size\n",
    "    h = (group['ymax'] - group['ymin'])/img_size\n",
    "    res = pd.concat([x*0,x,y,w,h], axis=1)\n",
    "    labels_train = os.path.join(labels_base,train_val_label)\n",
    "    os.makedirs(labels_train, exist_ok=True)\n",
    "    images_train = os.path.join(images_base,train_val_label)\n",
    "    os.makedirs(images_train, exist_ok=True)\n",
    "    res.to_csv(f'{os.path.join(labels_train, base_name)}.txt', header=None, index=None, sep=' ', mode='w+')\n",
    "    shutil.copy2(os.path.join(samples_dir, name),os.path.join(images_train, name))"
   ],
   "metadata": {
    "collapsed": false,
    "pycharm": {
     "name": "#%%\n"
    }
   }
  },
  {
   "cell_type": "code",
   "execution_count": 8,
   "outputs": [],
   "source": [],
   "metadata": {
    "collapsed": false,
    "pycharm": {
     "name": "#%%\n"
    }
   }
  }
 ],
 "metadata": {
  "kernelspec": {
   "display_name": "Python 3",
   "language": "python",
   "name": "python3"
  },
  "language_info": {
   "codemirror_mode": {
    "name": "ipython",
    "version": 2
   },
   "file_extension": ".py",
   "mimetype": "text/x-python",
   "name": "python",
   "nbconvert_exporter": "python",
   "pygments_lexer": "ipython2",
   "version": "2.7.6"
  }
 },
 "nbformat": 4,
 "nbformat_minor": 0
}