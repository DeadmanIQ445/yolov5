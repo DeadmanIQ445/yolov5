{
 "cells": [
  {
   "cell_type": "code",
   "execution_count": 1,
   "id": "5b783778",
   "metadata": {},
   "outputs": [],
   "source": [
    "import os "
   ]
  },
  {
   "cell_type": "code",
   "execution_count": 2,
   "id": "716b2fa0",
   "metadata": {},
   "outputs": [
    {
     "name": "stdout",
     "output_type": "stream",
     "text": [
      "Archive:  data/summer_treecanopy_train.zip\n",
      "   creating: data/summer_treecanopy_train/\n",
      "   creating: data/summer_treecanopy_train/AOI/\n",
      "   creating: data/summer_treecanopy_train/AOI/trees_afs_summer_10_Baykalsk_CIMA_gpx_GT/\n",
      "  inflating: data/summer_treecanopy_train/AOI/trees_afs_summer_10_Baykalsk_CIMA_gpx_GT/trees_afs_summer_10_Baykalsk_CIMA_gpx_AOI.prj  \n",
      "  inflating: data/summer_treecanopy_train/AOI/trees_afs_summer_10_Baykalsk_CIMA_gpx_GT/trees_afs_summer_10_Baykalsk_CIMA_gpx_AOI.dbf  \n",
      "  inflating: data/summer_treecanopy_train/AOI/trees_afs_summer_10_Baykalsk_CIMA_gpx_GT/trees_afs_summer_10_Baykalsk_CIMA_gpx_AOI.shp  \n",
      "  inflating: data/summer_treecanopy_train/AOI/trees_afs_summer_10_Baykalsk_CIMA_gpx_GT/trees_afs_summer_10_Baykalsk_CIMA_gpx_AOI.shx  \n",
      "  inflating: data/summer_treecanopy_train/AOI/trees_afs_summer_10_Baykalsk_CIMA_gpx_GT/trees_afs_summer_10_Baykalsk_CIMA_gpx_AOI.cpg  \n",
      "   creating: data/summer_treecanopy_train/AOI/trees_afs_summer_8_Baykalsk_CIMA_gpx_GT/\n",
      "  inflating: data/summer_treecanopy_train/AOI/trees_afs_summer_8_Baykalsk_CIMA_gpx_GT/trees_afs_summer_8_Baykalsk_CIMA_gpx_AOI.prj  \n",
      "  inflating: data/summer_treecanopy_train/AOI/trees_afs_summer_8_Baykalsk_CIMA_gpx_GT/trees_afs_summer_8_Baykalsk_CIMA_gpx_AOI.shx  \n",
      "  inflating: data/summer_treecanopy_train/AOI/trees_afs_summer_8_Baykalsk_CIMA_gpx_GT/trees_afs_summer_8_Baykalsk_CIMA_gpx_AOI.shp  \n",
      "  inflating: data/summer_treecanopy_train/AOI/trees_afs_summer_8_Baykalsk_CIMA_gpx_GT/trees_afs_summer_8_Baykalsk_CIMA_gpx_AOI.cpg  \n",
      "  inflating: data/summer_treecanopy_train/AOI/trees_afs_summer_8_Baykalsk_CIMA_gpx_GT/trees_afs_summer_8_Baykalsk_CIMA_gpx_AOI.dbf  \n",
      "   creating: data/summer_treecanopy_train/AOI/trees_afs_summer_7_Baykalsk_CIMA_gpx_GT/\n",
      "  inflating: data/summer_treecanopy_train/AOI/trees_afs_summer_7_Baykalsk_CIMA_gpx_GT/trees_afs_summer_7_Baykalsk_CIMA_gpx_AOI.shx  \n",
      "  inflating: data/summer_treecanopy_train/AOI/trees_afs_summer_7_Baykalsk_CIMA_gpx_GT/trees_afs_summer_7_Baykalsk_CIMA_gpx_AOI.cpg  \n",
      "  inflating: data/summer_treecanopy_train/AOI/trees_afs_summer_7_Baykalsk_CIMA_gpx_GT/trees_afs_summer_7_Baykalsk_CIMA_gpx_AOI.sbx  \n",
      "  inflating: data/summer_treecanopy_train/AOI/trees_afs_summer_7_Baykalsk_CIMA_gpx_GT/trees_afs_summer_7_Baykalsk_CIMA_gpx_AOI.shp  \n",
      "  inflating: data/summer_treecanopy_train/AOI/trees_afs_summer_7_Baykalsk_CIMA_gpx_GT/trees_afs_summer_7_Baykalsk_CIMA_gpx_AOI.prj  \n",
      "  inflating: data/summer_treecanopy_train/AOI/trees_afs_summer_7_Baykalsk_CIMA_gpx_GT/trees_afs_summer_7_Baykalsk_CIMA_gpx_AOI.sbn  \n",
      "  inflating: data/summer_treecanopy_train/AOI/trees_afs_summer_7_Baykalsk_CIMA_gpx_GT/trees_afs_summer_7_Baykalsk_CIMA_gpx_AOI.dbf  \n",
      "   creating: data/summer_treecanopy_train/AOI/trees_afs_summer_4_HMAO_CIMA_gpx_GT/\n",
      "  inflating: data/summer_treecanopy_train/AOI/trees_afs_summer_4_HMAO_CIMA_gpx_GT/trees_afs_summer_4_HMAO_CIMA_gpx_AOI.prj  \n",
      "  inflating: data/summer_treecanopy_train/AOI/trees_afs_summer_4_HMAO_CIMA_gpx_GT/trees_afs_summer_4_HMAO_CIMA_gpx_AOI.shp  \n",
      "  inflating: data/summer_treecanopy_train/AOI/trees_afs_summer_4_HMAO_CIMA_gpx_GT/trees_afs_summer_4_HMAO_CIMA_gpx_AOI.shx  \n",
      "  inflating: data/summer_treecanopy_train/AOI/trees_afs_summer_4_HMAO_CIMA_gpx_GT/trees_afs_summer_4_HMAO_CIMA_gpx_AOI.cpg  \n",
      "  inflating: data/summer_treecanopy_train/AOI/trees_afs_summer_4_HMAO_CIMA_gpx_GT/trees_afs_summer_4_HMAO_CIMA_gpx_AOI.dbf  \n",
      "   creating: data/summer_treecanopy_train/AOI/trees_afs_summer_9_Baykalsk_CIMA_gpx_GT/\n",
      "  inflating: data/summer_treecanopy_train/AOI/trees_afs_summer_9_Baykalsk_CIMA_gpx_GT/trees_afs_summer_9_Baykalsk_CIMA_gpx_AOI.shx  \n",
      "  inflating: data/summer_treecanopy_train/AOI/trees_afs_summer_9_Baykalsk_CIMA_gpx_GT/trees_afs_summer_9_Baykalsk_CIMA_gpx_AOI.dbf  \n",
      "  inflating: data/summer_treecanopy_train/AOI/trees_afs_summer_9_Baykalsk_CIMA_gpx_GT/trees_afs_summer_9_Baykalsk_CIMA_gpx_AOI.prj  \n",
      "  inflating: data/summer_treecanopy_train/AOI/trees_afs_summer_9_Baykalsk_CIMA_gpx_GT/trees_afs_summer_9_Baykalsk_CIMA_gpx_AOI.shp  \n",
      "  inflating: data/summer_treecanopy_train/AOI/trees_afs_summer_9_Baykalsk_CIMA_gpx_GT/trees_afs_summer_9_Baykalsk_CIMA_gpx_AOI.cpg  \n",
      "   creating: data/summer_treecanopy_train/AOI/trees_afs_summer_1_HMAO_CIMA_gpx_GT/\n",
      "  inflating: data/summer_treecanopy_train/AOI/trees_afs_summer_1_HMAO_CIMA_gpx_GT/trees_afs_summer_1_HMAO_CIMA_gpx_AOI.shx  \n",
      "  inflating: data/summer_treecanopy_train/AOI/trees_afs_summer_1_HMAO_CIMA_gpx_GT/trees_afs_summer_1_HMAO_CIMA_gpx_AOI.qpj  \n",
      "  inflating: data/summer_treecanopy_train/AOI/trees_afs_summer_1_HMAO_CIMA_gpx_GT/trees_afs_summer_1_HMAO_CIMA_gpx_AOI.prj  \n",
      "  inflating: data/summer_treecanopy_train/AOI/trees_afs_summer_1_HMAO_CIMA_gpx_GT/trees_afs_summer_1_HMAO_CIMA_gpx_AOI.cpg  \n",
      "  inflating: data/summer_treecanopy_train/AOI/trees_afs_summer_1_HMAO_CIMA_gpx_GT/trees_afs_summer_1_HMAO_CIMA_gpx_AOI.shp  \n",
      "  inflating: data/summer_treecanopy_train/AOI/trees_afs_summer_1_HMAO_CIMA_gpx_GT/trees_afs_summer_1_HMAO_CIMA_gpx_AOI.dbf  \n",
      "   creating: data/summer_treecanopy_train/AOI/trees_afs_summer_6_Almetjevsk_CIMA_gpx_GT/\n",
      "  inflating: data/summer_treecanopy_train/AOI/trees_afs_summer_6_Almetjevsk_CIMA_gpx_GT/trees_afs_summer_6_Almetjevsk_CIMA_gpx_AOI.prj  \n",
      "  inflating: data/summer_treecanopy_train/AOI/trees_afs_summer_6_Almetjevsk_CIMA_gpx_GT/trees_afs_summer_6_Almetjevsk_CIMA_gpx_AOI.shx  \n",
      "  inflating: data/summer_treecanopy_train/AOI/trees_afs_summer_6_Almetjevsk_CIMA_gpx_GT/trees_afs_summer_6_Almetjevsk_CIMA_gpx_AOI.dbf  \n",
      "  inflating: data/summer_treecanopy_train/AOI/trees_afs_summer_6_Almetjevsk_CIMA_gpx_GT/trees_afs_summer_6_Almetjevsk_CIMA_gpx_AOI.cpg  \n",
      "  inflating: data/summer_treecanopy_train/AOI/trees_afs_summer_6_Almetjevsk_CIMA_gpx_GT/trees_afs_summer_6_Almetjevsk_CIMA_gpx_AOI.shp  \n",
      "   creating: data/summer_treecanopy_train/AOI/trees_afs_summer_3_HMAO_CIMA_gpx_GT/\n",
      "  inflating: data/summer_treecanopy_train/AOI/trees_afs_summer_3_HMAO_CIMA_gpx_GT/trees_afs_summer_3_HMAO_CIMA_gpx_AOI.shp  \n",
      "  inflating: data/summer_treecanopy_train/AOI/trees_afs_summer_3_HMAO_CIMA_gpx_GT/trees_afs_summer_3_HMAO_CIMA_gpx_AOI.cpg  \n",
      "  inflating: data/summer_treecanopy_train/AOI/trees_afs_summer_3_HMAO_CIMA_gpx_GT/trees_afs_summer_3_HMAO_CIMA_gpx_AOI.prj  \n",
      "  inflating: data/summer_treecanopy_train/AOI/trees_afs_summer_3_HMAO_CIMA_gpx_GT/trees_afs_summer_3_HMAO_CIMA_gpx_AOI.shx  \n",
      "  inflating: data/summer_treecanopy_train/AOI/trees_afs_summer_3_HMAO_CIMA_gpx_GT/trees_afs_summer_3_HMAO_CIMA_gpx_AOI.dbf  \n",
      "   creating: data/summer_treecanopy_train/train/\n",
      "   creating: data/summer_treecanopy_train/train/trees_afs_summer_3_HMAO_CIMA_gpx_GT/\n",
      "  inflating: data/summer_treecanopy_train/train/trees_afs_summer_3_HMAO_CIMA_gpx_GT/trees_afs_summer_3_HMAO_CIMA_gpx_GT.cpg  \n",
      "  inflating: data/summer_treecanopy_train/train/trees_afs_summer_3_HMAO_CIMA_gpx_GT/trees_afs_summer_3_HMAO_CIMA_gpx_GT.dbf  \n",
      "  inflating: data/summer_treecanopy_train/train/trees_afs_summer_3_HMAO_CIMA_gpx_GT/trees_afs_summer_3_HMAO_CIMA_gpx_GT.prj  \n",
      "  inflating: data/summer_treecanopy_train/train/trees_afs_summer_3_HMAO_CIMA_gpx_GT/trees_afs_summer_3_HMAO_CIMA_gpx_GT.shp  \n",
      "  inflating: data/summer_treecanopy_train/train/trees_afs_summer_3_HMAO_CIMA_gpx_GT/trees_afs_summer_3_HMAO_CIMA_gpx_GT.shx  \n",
      "  inflating: data/summer_treecanopy_train/train/trees_afs_summer_3_HMAO_CIMA_gpx_GT/trees_afs_summer_3_HMAO_CIMA_gpx_GT.tif  \n",
      "   creating: data/summer_treecanopy_train/train/trees_afs_summer_1_HMAO_CIMA_gpx_GT/\n",
      "  inflating: data/summer_treecanopy_train/train/trees_afs_summer_1_HMAO_CIMA_gpx_GT/trees_afs_summer_1_HMAO_CIMA_gpx_H.tif  \n",
      "   creating: data/summer_treecanopy_train/train/trees_afs_summer_1_HMAO_CIMA_gpx_GT/bands/\n",
      "  inflating: data/summer_treecanopy_train/train/trees_afs_summer_1_HMAO_CIMA_gpx_GT/bands/CHM.tif  \n",
      "  inflating: data/summer_treecanopy_train/train/trees_afs_summer_1_HMAO_CIMA_gpx_GT/bands/ITS.tif  \n",
      "  inflating: data/summer_treecanopy_train/train/trees_afs_summer_1_HMAO_CIMA_gpx_GT/bands/DEN.tif  \n",
      "  inflating: data/summer_treecanopy_train/train/trees_afs_summer_1_HMAO_CIMA_gpx_GT/trees_afs_summer_1_HMAO_CIMA_gpx_GT.shp  \n",
      "  inflating: data/summer_treecanopy_train/train/trees_afs_summer_1_HMAO_CIMA_gpx_GT/trees_afs_summer_1_HMAO_CIMA_gpx_GT.shx  \n",
      "  inflating: data/summer_treecanopy_train/train/trees_afs_summer_1_HMAO_CIMA_gpx_GT/trees_afs_summer_1_HMAO_CIMA_gpx_GT.dbf  \n",
      "  inflating: data/summer_treecanopy_train/train/trees_afs_summer_1_HMAO_CIMA_gpx_GT/trees_afs_summer_1_HMAO_CIMA_gpx_GT.cpg  \n",
      "  inflating: data/summer_treecanopy_train/train/trees_afs_summer_1_HMAO_CIMA_gpx_GT/trees_afs_summer_1_HMAO_CIMA_gpx_GT.prj  \n",
      "   creating: data/summer_treecanopy_train/train/trees_afs_summer_4_HMAO_CIMA_gpx_GT/\n"
     ]
    },
    {
     "name": "stdout",
     "output_type": "stream",
     "text": [
      "  inflating: data/summer_treecanopy_train/train/trees_afs_summer_4_HMAO_CIMA_gpx_GT/trees_afs_summer_4_HMAO_CIMA_gpx_H.tif  \n",
      "  inflating: data/summer_treecanopy_train/train/trees_afs_summer_4_HMAO_CIMA_gpx_GT/trees_afs_summer_4_HMAO_CIMA_gpx_GT.cpg  \n",
      "  inflating: data/summer_treecanopy_train/train/trees_afs_summer_4_HMAO_CIMA_gpx_GT/trees_afs_summer_4_HMAO_CIMA_gpx_GT.dbf  \n",
      "  inflating: data/summer_treecanopy_train/train/trees_afs_summer_4_HMAO_CIMA_gpx_GT/trees_afs_summer_4_HMAO_CIMA_gpx_GT.prj  \n",
      "  inflating: data/summer_treecanopy_train/train/trees_afs_summer_4_HMAO_CIMA_gpx_GT/trees_afs_summer_4_HMAO_CIMA_gpx_GT.shp  \n",
      "  inflating: data/summer_treecanopy_train/train/trees_afs_summer_4_HMAO_CIMA_gpx_GT/trees_afs_summer_4_HMAO_CIMA_gpx_GT.shx  \n",
      "   creating: data/summer_treecanopy_train/train/trees_afs_summer_6_Almetjevsk_CIMA_gpx_GT/\n",
      "  inflating: data/summer_treecanopy_train/train/trees_afs_summer_6_Almetjevsk_CIMA_gpx_GT/trees_afs_summer_6_Almetjevsk_CIMA_gpx_H.tif  \n",
      "  inflating: data/summer_treecanopy_train/train/trees_afs_summer_6_Almetjevsk_CIMA_gpx_GT/trees_afs_summer_6_Almetjevsk_CIMA_gpx_GT.CPG  \n",
      "  inflating: data/summer_treecanopy_train/train/trees_afs_summer_6_Almetjevsk_CIMA_gpx_GT/trees_afs_summer_6_Almetjevsk_CIMA_gpx_GT.dbf  \n",
      "  inflating: data/summer_treecanopy_train/train/trees_afs_summer_6_Almetjevsk_CIMA_gpx_GT/trees_afs_summer_6_Almetjevsk_CIMA_gpx_GT.prj  \n",
      "  inflating: data/summer_treecanopy_train/train/trees_afs_summer_6_Almetjevsk_CIMA_gpx_GT/trees_afs_summer_6_Almetjevsk_CIMA_gpx_GT.sbn  \n",
      "  inflating: data/summer_treecanopy_train/train/trees_afs_summer_6_Almetjevsk_CIMA_gpx_GT/trees_afs_summer_6_Almetjevsk_CIMA_gpx_GT.sbx  \n",
      "  inflating: data/summer_treecanopy_train/train/trees_afs_summer_6_Almetjevsk_CIMA_gpx_GT/trees_afs_summer_6_Almetjevsk_CIMA_gpx_GT.shp  \n",
      "  inflating: data/summer_treecanopy_train/train/trees_afs_summer_6_Almetjevsk_CIMA_gpx_GT/trees_afs_summer_6_Almetjevsk_CIMA_gpx_GT.shx  \n",
      "  inflating: data/summer_treecanopy_train/train/trees_afs_summer_6_Almetjevsk_CIMA_gpx_GT/trees_afs_summer_6_Almetjevsk_CIMA_gpx_GT.xml  \n",
      "   creating: data/summer_treecanopy_train/train/trees_afs_summer_7_Baykalsk_CIMA_gpx_GT/\n",
      "  inflating: data/summer_treecanopy_train/train/trees_afs_summer_7_Baykalsk_CIMA_gpx_GT/trees_afs_summer_7_Baykalsk_CIMA_gpx_H.tif  \n",
      "  inflating: data/summer_treecanopy_train/train/trees_afs_summer_7_Baykalsk_CIMA_gpx_GT/trees_afs_summer_7_Baykalsk_CIMA_gpx_GT.cpg  \n",
      "  inflating: data/summer_treecanopy_train/train/trees_afs_summer_7_Baykalsk_CIMA_gpx_GT/trees_afs_summer_7_Baykalsk_CIMA_gpx_GT.dbf  \n",
      "  inflating: data/summer_treecanopy_train/train/trees_afs_summer_7_Baykalsk_CIMA_gpx_GT/trees_afs_summer_7_Baykalsk_CIMA_gpx_GT.prj  \n",
      "  inflating: data/summer_treecanopy_train/train/trees_afs_summer_7_Baykalsk_CIMA_gpx_GT/trees_afs_summer_7_Baykalsk_CIMA_gpx_GT.shp  \n",
      "  inflating: data/summer_treecanopy_train/train/trees_afs_summer_7_Baykalsk_CIMA_gpx_GT/trees_afs_summer_7_Baykalsk_CIMA_gpx_GT.shx  \n",
      "  inflating: data/summer_treecanopy_train/train/trees_afs_summer_7_Baykalsk_CIMA_gpx_GT/trees_afs_summer_7_Baykalsk_CIMA_gpx_GT.xml  \n",
      "   creating: data/summer_treecanopy_train/train/trees_afs_summer_8_Baykalsk_CIMA_gpx_GT/\n",
      "  inflating: data/summer_treecanopy_train/train/trees_afs_summer_8_Baykalsk_CIMA_gpx_GT/trees_afs_summer_8_Baykalsk_CIMA_gpx_H.tif  \n",
      "   creating: data/summer_treecanopy_train/train/trees_afs_summer_8_Baykalsk_CIMA_gpx_GT/bands/\n",
      "  inflating: data/summer_treecanopy_train/train/trees_afs_summer_8_Baykalsk_CIMA_gpx_GT/bands/CHM.tif  \n",
      "  inflating: data/summer_treecanopy_train/train/trees_afs_summer_8_Baykalsk_CIMA_gpx_GT/bands/ITS.tif  \n",
      "  inflating: data/summer_treecanopy_train/train/trees_afs_summer_8_Baykalsk_CIMA_gpx_GT/bands/DEN.tif  \n",
      "  inflating: data/summer_treecanopy_train/train/trees_afs_summer_8_Baykalsk_CIMA_gpx_GT/trees_afs_summer_8_Baykalsk_CIMA_gpx_GT.cpg  \n",
      "  inflating: data/summer_treecanopy_train/train/trees_afs_summer_8_Baykalsk_CIMA_gpx_GT/trees_afs_summer_8_Baykalsk_CIMA_gpx_GT.dbf  \n",
      "  inflating: data/summer_treecanopy_train/train/trees_afs_summer_8_Baykalsk_CIMA_gpx_GT/trees_afs_summer_8_Baykalsk_CIMA_gpx_GT.prj  \n",
      "  inflating: data/summer_treecanopy_train/train/trees_afs_summer_8_Baykalsk_CIMA_gpx_GT/trees_afs_summer_8_Baykalsk_CIMA_gpx_GT.shp  \n",
      "  inflating: data/summer_treecanopy_train/train/trees_afs_summer_8_Baykalsk_CIMA_gpx_GT/trees_afs_summer_8_Baykalsk_CIMA_gpx_GT.shx  \n",
      "   creating: data/summer_treecanopy_train/train/trees_afs_summer_9_Baykalsk_CIMA_gpx_GT/\n",
      "   creating: data/summer_treecanopy_train/train/trees_afs_summer_9_Baykalsk_CIMA_gpx_GT/bands/\n",
      "  inflating: data/summer_treecanopy_train/train/trees_afs_summer_9_Baykalsk_CIMA_gpx_GT/bands/CHM.tif  \n",
      "  inflating: data/summer_treecanopy_train/train/trees_afs_summer_9_Baykalsk_CIMA_gpx_GT/bands/ITS.tif  \n",
      "  inflating: data/summer_treecanopy_train/train/trees_afs_summer_9_Baykalsk_CIMA_gpx_GT/bands/DEN.tif  \n",
      "  inflating: data/summer_treecanopy_train/train/trees_afs_summer_9_Baykalsk_CIMA_gpx_GT/trees_afs_summer_9_Baykalsk_CIMA_gpx_H.tif  \n",
      "  inflating: data/summer_treecanopy_train/train/trees_afs_summer_9_Baykalsk_CIMA_gpx_GT/trees_afs_summer_9_Baykalsk_CIMA_gpx_GT.cpg  \n",
      "  inflating: data/summer_treecanopy_train/train/trees_afs_summer_9_Baykalsk_CIMA_gpx_GT/trees_afs_summer_9_Baykalsk_CIMA_gpx_GT.dbf  \n",
      "  inflating: data/summer_treecanopy_train/train/trees_afs_summer_9_Baykalsk_CIMA_gpx_GT/trees_afs_summer_9_Baykalsk_CIMA_gpx_GT.prj  \n",
      "  inflating: data/summer_treecanopy_train/train/trees_afs_summer_9_Baykalsk_CIMA_gpx_GT/trees_afs_summer_9_Baykalsk_CIMA_gpx_GT.shp  \n",
      "  inflating: data/summer_treecanopy_train/train/trees_afs_summer_9_Baykalsk_CIMA_gpx_GT/trees_afs_summer_9_Baykalsk_CIMA_gpx_GT.shx  \n",
      "   creating: data/summer_treecanopy_train/train/trees_afs_summer_10_Baykalsk_CIMA_gpx_GT/\n",
      "  inflating: data/summer_treecanopy_train/train/trees_afs_summer_10_Baykalsk_CIMA_gpx_GT/trees_afs_summer_10_Baykalsk_CIMA_gpx_H.tif  \n",
      "  inflating: data/summer_treecanopy_train/train/trees_afs_summer_10_Baykalsk_CIMA_gpx_GT/trees_afs_summer_10_Baykalsk_CIMA_gpx_GT.cpg  \n",
      "  inflating: data/summer_treecanopy_train/train/trees_afs_summer_10_Baykalsk_CIMA_gpx_GT/trees_afs_summer_10_Baykalsk_CIMA_gpx_GT.dbf  \n",
      "  inflating: data/summer_treecanopy_train/train/trees_afs_summer_10_Baykalsk_CIMA_gpx_GT/trees_afs_summer_10_Baykalsk_CIMA_gpx_GT.prj  \n",
      "  inflating: data/summer_treecanopy_train/train/trees_afs_summer_10_Baykalsk_CIMA_gpx_GT/trees_afs_summer_10_Baykalsk_CIMA_gpx_GT.shp  \n",
      "  inflating: data/summer_treecanopy_train/train/trees_afs_summer_10_Baykalsk_CIMA_gpx_GT/trees_afs_summer_10_Baykalsk_CIMA_gpx_GT.shx  \n"
     ]
    },
    {
     "data": {
      "text/plain": [
       "0"
      ]
     },
     "execution_count": 2,
     "metadata": {},
     "output_type": "execute_result"
    }
   ],
   "source": [
    "shared_link=\n",
    "os.makedirs('data', exist_ok=True)\n",
    "os.system(f\"wget -q -O data/summer_treecanopy_train.zip \\\"{shared_link}\\\"\")\n",
    "os.system(\"unzip data/summer_treecanopy_train.zip -d data/\")"
   ]
  },
  {
   "cell_type": "code",
   "execution_count": 3,
   "id": "9eba6fa1",
   "metadata": {
    "scrolled": true
   },
   "outputs": [
    {
     "name": "stdout",
     "output_type": "stream",
     "text": [
      "Archive:  data/summer_treecanopy_test.zip\n",
      "   creating: data/summer_treecanopy_test/\n",
      "   creating: data/summer_treecanopy_test/AOI/\n",
      "   creating: data/summer_treecanopy_test/AOI/trees_afs_summer_2_HMAO_CIMA_gpx_GT/\n",
      "  inflating: data/summer_treecanopy_test/AOI/trees_afs_summer_2_HMAO_CIMA_gpx_GT/trees_afs_summer_2_HMAO_CIMA_gpx_AOI.prj  \n",
      "  inflating: data/summer_treecanopy_test/AOI/trees_afs_summer_2_HMAO_CIMA_gpx_GT/trees_afs_summer_2_HMAO_CIMA_gpx_AOI.dbf  \n",
      "  inflating: data/summer_treecanopy_test/AOI/trees_afs_summer_2_HMAO_CIMA_gpx_GT/trees_afs_summer_2_HMAO_CIMA_gpx_AOI.shp  \n",
      "  inflating: data/summer_treecanopy_test/AOI/trees_afs_summer_2_HMAO_CIMA_gpx_GT/trees_afs_summer_2_HMAO_CIMA_gpx_AOI.shx  \n",
      "  inflating: data/summer_treecanopy_test/AOI/trees_afs_summer_2_HMAO_CIMA_gpx_GT/trees_afs_summer_2_HMAO_CIMA_gpx_AOI.cpg  \n",
      "   creating: data/summer_treecanopy_test/AOI/trees_afs_summer_5_HMAO_CIMA_gpx_GT/\n",
      "  inflating: data/summer_treecanopy_test/AOI/trees_afs_summer_5_HMAO_CIMA_gpx_GT/trees_afs_summer_5_HMAO_CIMA_gpx_AOI.shp  \n",
      "  inflating: data/summer_treecanopy_test/AOI/trees_afs_summer_5_HMAO_CIMA_gpx_GT/trees_afs_summer_5_HMAO_CIMA_gpx_AOI.shx  \n",
      "  inflating: data/summer_treecanopy_test/AOI/trees_afs_summer_5_HMAO_CIMA_gpx_GT/trees_afs_summer_5_HMAO_CIMA_gpx_AOI.dbf  \n",
      "  inflating: data/summer_treecanopy_test/AOI/trees_afs_summer_5_HMAO_CIMA_gpx_GT/trees_afs_summer_5_HMAO_CIMA_gpx_AOI.cpg  \n",
      "  inflating: data/summer_treecanopy_test/AOI/trees_afs_summer_5_HMAO_CIMA_gpx_GT/trees_afs_summer_5_HMAO_CIMA_gpx_AOI.prj  \n",
      "   creating: data/summer_treecanopy_test/test/\n",
      "   creating: data/summer_treecanopy_test/test/trees_afs_summer_2_HMAO_CIMA_gpx_GT/\n",
      "  inflating: data/summer_treecanopy_test/test/trees_afs_summer_2_HMAO_CIMA_gpx_GT/trees_afs_summer_2_HMAO_CIMA_gpx_GT.cpg  \n",
      "  inflating: data/summer_treecanopy_test/test/trees_afs_summer_2_HMAO_CIMA_gpx_GT/trees_afs_summer_2_HMAO_CIMA_gpx_GT.dbf  \n",
      "  inflating: data/summer_treecanopy_test/test/trees_afs_summer_2_HMAO_CIMA_gpx_GT/trees_afs_summer_2_HMAO_CIMA_gpx_GT.prj  \n",
      "  inflating: data/summer_treecanopy_test/test/trees_afs_summer_2_HMAO_CIMA_gpx_GT/trees_afs_summer_2_HMAO_CIMA_gpx_GT.shp  \n",
      "  inflating: data/summer_treecanopy_test/test/trees_afs_summer_2_HMAO_CIMA_gpx_GT/trees_afs_summer_2_HMAO_CIMA_gpx_GT.shx  \n",
      "  inflating: data/summer_treecanopy_test/test/trees_afs_summer_2_HMAO_CIMA_gpx_GT/006_CHM_02.tif  \n",
      "   creating: data/summer_treecanopy_test/test/trees_afs_summer_2_HMAO_CIMA_gpx_GT/bands/\n",
      "  inflating: data/summer_treecanopy_test/test/trees_afs_summer_2_HMAO_CIMA_gpx_GT/bands/CHM.tif  \n",
      "  inflating: data/summer_treecanopy_test/test/trees_afs_summer_2_HMAO_CIMA_gpx_GT/bands/ITS.tif  \n",
      "  inflating: data/summer_treecanopy_test/test/trees_afs_summer_2_HMAO_CIMA_gpx_GT/bands/DEN.tif  \n",
      "   creating: data/summer_treecanopy_test/test/trees_afs_summer_5_HMAO_CIMA_gpx_GT/\n",
      "  inflating: data/summer_treecanopy_test/test/trees_afs_summer_5_HMAO_CIMA_gpx_GT/trees_afs_summer_5_HMAO_CIMA_gpx_GT.cpg  \n",
      "  inflating: data/summer_treecanopy_test/test/trees_afs_summer_5_HMAO_CIMA_gpx_GT/trees_afs_summer_5_HMAO_CIMA_gpx_GT.dbf  \n",
      "  inflating: data/summer_treecanopy_test/test/trees_afs_summer_5_HMAO_CIMA_gpx_GT/trees_afs_summer_5_HMAO_CIMA_gpx_GT.prj  \n",
      "  inflating: data/summer_treecanopy_test/test/trees_afs_summer_5_HMAO_CIMA_gpx_GT/trees_afs_summer_5_HMAO_CIMA_gpx_GT.shp  \n",
      "  inflating: data/summer_treecanopy_test/test/trees_afs_summer_5_HMAO_CIMA_gpx_GT/trees_afs_summer_5_HMAO_CIMA_gpx_GT.shx  \n",
      "  inflating: data/summer_treecanopy_test/test/trees_afs_summer_5_HMAO_CIMA_gpx_GT/019_CHM_02.tif  \n",
      "   creating: data/summer_treecanopy_test/test/trees_afs_summer_5_HMAO_CIMA_gpx_GT/bands/\n",
      "  inflating: data/summer_treecanopy_test/test/trees_afs_summer_5_HMAO_CIMA_gpx_GT/bands/CHM.tif  \n",
      "  inflating: data/summer_treecanopy_test/test/trees_afs_summer_5_HMAO_CIMA_gpx_GT/bands/ITS.tif  \n",
      "  inflating: data/summer_treecanopy_test/test/trees_afs_summer_5_HMAO_CIMA_gpx_GT/bands/DEN.tif  \n"
     ]
    },
    {
     "data": {
      "text/plain": [
       "0"
      ]
     },
     "execution_count": 3,
     "metadata": {},
     "output_type": "execute_result"
    }
   ],
   "source": [
    "shared_link =\n",
    "os.makedirs('data', exist_ok=True)\n",
    "os.system(f\"wget -q -O data/summer_treecanopy_test.zip \\\"{shared_link}\\\"\")\n",
    "os.system(\"unzip data/summer_treecanopy_test.zip -d data/\")"
   ]
  },
  {
   "cell_type": "code",
   "execution_count": 6,
   "id": "14995924",
   "metadata": {},
   "outputs": [
    {
     "data": {
      "text/plain": [
       "0"
      ]
     },
     "execution_count": 6,
     "metadata": {},
     "output_type": "execute_result"
    }
   ],
   "source": [
    "os.system(\"cp -r data/summer_treecanopy_test/* data/summer_treecanopy_train\")"
   ]
  },
  {
   "cell_type": "code",
   "execution_count": 1,
   "id": "f53ef569",
   "metadata": {},
   "outputs": [
    {
     "name": "stderr",
     "output_type": "stream",
     "text": [
      "\r",
      "  0%|                                                     | 0/8 [00:00<?, ?it/s]"
     ]
    },
    {
     "name": "stdout",
     "output_type": "stream",
     "text": [
      "data/summer_treecanopy_train/train/trees_afs_summer_9_Baykalsk_CIMA_gpx_GT\n"
     ]
    },
    {
     "name": "stderr",
     "output_type": "stream",
     "text": [
      "\r",
      " 12%|█████▋                                       | 1/8 [00:21<02:28, 21.25s/it]"
     ]
    },
    {
     "name": "stdout",
     "output_type": "stream",
     "text": [
      "data/summer_treecanopy_train/train/trees_afs_summer_8_Baykalsk_CIMA_gpx_GT\n"
     ]
    },
    {
     "name": "stderr",
     "output_type": "stream",
     "text": [
      "\r",
      " 25%|███████████▎                                 | 2/8 [00:29<01:22, 13.76s/it]"
     ]
    },
    {
     "name": "stdout",
     "output_type": "stream",
     "text": [
      "data/summer_treecanopy_train/train/trees_afs_summer_6_Almetjevsk_CIMA_gpx_GT\n"
     ]
    },
    {
     "name": "stderr",
     "output_type": "stream",
     "text": [
      "\r",
      " 38%|████████████████▉                            | 3/8 [00:48<01:19, 15.92s/it]"
     ]
    },
    {
     "name": "stdout",
     "output_type": "stream",
     "text": [
      "data/summer_treecanopy_train/train/trees_afs_summer_4_HMAO_CIMA_gpx_GT\n"
     ]
    },
    {
     "name": "stderr",
     "output_type": "stream",
     "text": [
      "\r",
      " 50%|██████████████████████▌                      | 4/8 [01:50<02:17, 34.39s/it]"
     ]
    },
    {
     "name": "stdout",
     "output_type": "stream",
     "text": [
      "data/summer_treecanopy_train/train/trees_afs_summer_10_Baykalsk_CIMA_gpx_GT\n"
     ]
    },
    {
     "name": "stderr",
     "output_type": "stream",
     "text": [
      "\r",
      " 62%|████████████████████████████▏                | 5/8 [02:09<01:25, 28.54s/it]"
     ]
    },
    {
     "name": "stdout",
     "output_type": "stream",
     "text": [
      "data/summer_treecanopy_train/train/trees_afs_summer_1_HMAO_CIMA_gpx_GT\n"
     ]
    },
    {
     "name": "stderr",
     "output_type": "stream",
     "text": [
      "\r",
      " 75%|█████████████████████████████████▊           | 6/8 [02:19<00:44, 22.46s/it]"
     ]
    },
    {
     "name": "stdout",
     "output_type": "stream",
     "text": [
      "data/summer_treecanopy_train/train/trees_afs_summer_3_HMAO_CIMA_gpx_GT\n"
     ]
    },
    {
     "name": "stderr",
     "output_type": "stream",
     "text": [
      "\r",
      " 88%|███████████████████████████████████████▍     | 7/8 [02:57<00:27, 27.54s/it]"
     ]
    },
    {
     "name": "stdout",
     "output_type": "stream",
     "text": [
      "data/summer_treecanopy_train/train/trees_afs_summer_7_Baykalsk_CIMA_gpx_GT\n"
     ]
    },
    {
     "name": "stderr",
     "output_type": "stream",
     "text": [
      "100%|█████████████████████████████████████████████| 8/8 [03:09<00:00, 23.71s/it]\n",
      "  0%|                                                     | 0/2 [00:00<?, ?it/s]"
     ]
    },
    {
     "name": "stdout",
     "output_type": "stream",
     "text": [
      "data/summer_treecanopy_train/test/trees_afs_summer_5_HMAO_CIMA_gpx_GT\n"
     ]
    },
    {
     "name": "stderr",
     "output_type": "stream",
     "text": [
      "\r",
      " 50%|██████████████████████▌                      | 1/2 [00:10<00:10, 10.27s/it]"
     ]
    },
    {
     "name": "stdout",
     "output_type": "stream",
     "text": [
      "data/summer_treecanopy_train/test/trees_afs_summer_2_HMAO_CIMA_gpx_GT\n"
     ]
    },
    {
     "name": "stderr",
     "output_type": "stream",
     "text": [
      "100%|█████████████████████████████████████████████| 2/2 [00:59<00:00, 29.53s/it]\n"
     ]
    }
   ],
   "source": [
    "from data_preparation_script  import data_preparation_script\n",
    "\n",
    "data_preparation_script.run(\"data/summer_treecanopy_train\")"
   ]
  }
 ],
 "metadata": {
  "kernelspec": {
   "display_name": "Python 3",
   "language": "python",
   "name": "python3"
  },
  "language_info": {
   "codemirror_mode": {
    "name": "ipython",
    "version": 3
   },
   "file_extension": ".py",
   "mimetype": "text/x-python",
   "name": "python",
   "nbconvert_exporter": "python",
   "pygments_lexer": "ipython3",
   "version": "3.8.10"
  }
 },
 "nbformat": 4,
 "nbformat_minor": 5
}
